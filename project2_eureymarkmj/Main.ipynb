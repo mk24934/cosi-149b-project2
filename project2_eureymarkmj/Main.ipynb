{
 "cells": [
  {
   "cell_type": "code",
   "execution_count": null,
   "metadata": {},
   "outputs": [],
   "source": [
    "import pandas as pd\n",
    "from keras.models import load_model\n",
    "import numpy as np"
   ]
  },
  {
   "cell_type": "code",
   "execution_count": null,
   "metadata": {},
   "outputs": [],
   "source": [
    "print(\"Enter output filename\")\n",
    "output = input()\n",
    "print(\"Enter test data filename\")\n",
    "file_name = input()"
   ]
  },
  {
   "cell_type": "code",
   "execution_count": null,
   "metadata": {},
   "outputs": [],
   "source": [
    "\n",
    "df = pd.read_csv(file_name)\n",
    "\n",
    "# Drop variable\n",
    "df = df.drop(columns=['open', 'high', 'low', 'close', 'volume', 'dividend', 'split'])\n",
    "\n",
    "# Split data by IDs and write to different files\n",
    "dfs = dict(tuple(df.groupby('id')))\n",
    "list_df = [dfs[x] for x in dfs]\n",
    "for index, df in enumerate(list_df):\n",
    "    df['moving_average'] = df['adjusted_close'].rolling(5).mean()\n",
    "    df.to_csv(\"data_by_id/\" + str(index) + \".csv\", index=False)"
   ]
  },
  {
   "cell_type": "code",
   "execution_count": null,
   "metadata": {},
   "outputs": [],
   "source": [
    "import os\n",
    "from sklearn.preprocessing import MinMaxScaler\n",
    "\n",
    "directory_in_str = os.getcwd()\n",
    "directory_in_str += '/data_by_id'"
   ]
  },
  {
   "cell_type": "code",
   "execution_count": null,
   "metadata": {},
   "outputs": [],
   "source": [
    "def change_category(now, week_from_now):\n",
    "    ratio = float(week_from_now)/now\n",
    "    percentile = (ratio - 1) * 100\n",
    "    if abs(percentile) >= 5:\n",
    "        return np.sign(percentile) * 3\n",
    "    elif abs(percentile) >= 3:\n",
    "        return np.sign(percentile) * 2\n",
    "    elif abs(percentile) >= 2:\n",
    "        return np.sign(percentile)\n",
    "    else:\n",
    "        return 0"
   ]
  },
  {
   "cell_type": "code",
   "execution_count": null,
   "metadata": {},
   "outputs": [],
   "source": [
    "def LSTM_predict(filename):\n",
    "    filename = 'data_by_id/'+filename\n",
    "    print(filename)\n",
    "    df = pd.read_csv(filename, index_col=\"time\",parse_dates=True)\n",
    "    df = df[4:]\n",
    "    column = df['adjusted_open'].count()\n",
    "    if (column > 60):\n",
    "        return actual_predict(df, column)\n",
    "    return None"
   ]
  },
  {
   "cell_type": "code",
   "execution_count": null,
   "metadata": {},
   "outputs": [],
   "source": [
    "def actual_predict(df, column):\n",
    "        temp = df.copy()\n",
    "        training_set = df.drop(['id', 'adjusted_volume'], axis=1)\n",
    "        # Feature Scaling\n",
    "        sc = MinMaxScaler(feature_range = (0, 1))\n",
    "        training_set_scaled = sc.fit_transform(training_set)\n",
    "        training_set_scaled.shape\n",
    "        # Creating a data structure with 60 timesteps and 1 output\n",
    "        X_test = []\n",
    "        for i in range(60, column):\n",
    "            X_test.append(training_set_scaled[i-60:i, :])\n",
    "        X_test = np.array(X_test)\n",
    "        # Reshaping\n",
    "        X_test = np.reshape(X_test, (X_test.shape[0], X_test.shape[1], 5))\n",
    "        regressor = load_model('model.h5')\n",
    "        y = regressor.predict(X_test)\n",
    "        return temp, y"
   ]
  },
  {
   "cell_type": "code",
   "execution_count": null,
   "metadata": {},
   "outputs": [],
   "source": [
    " def change_percent(together_df):\n",
    "    together_df.rename(index=str, columns={3: \"price\"}, inplace = True)\n",
    "    together_df = together_df.assign(actual_lag_5 = lambda x: x.price.shift(-5))\n",
    "    together_df = together_df.assign(actual_percent = lambda x: (x.actual_lag_5 - x.price)/x.price)\n",
    "    together_df = together_df.assign(up_two = lambda x: (x.actual_percent > 0.02).astype(int))\n",
    "    together_df = together_df.assign(up_three = lambda x: (x.actual_percent > 0.03).astype(int))\n",
    "    together_df = together_df.assign(up_five = lambda x: (x.actual_percent > 0.05).astype(int))\n",
    "    \n",
    "    together_df = together_df.assign(down_two = lambda x: (x.actual_percent < 0.02).astype(int))\n",
    "    together_df = together_df.assign(down_three = lambda x: (x.actual_percent < 0.03).astype(int))\n",
    "    together_df = together_df.assign(down_five = lambda x: (x.actual_percent < 0.05).astype(int))\n",
    "    together_df = together_df.drop([0, 1, 2, 'price', 4, 'actual_lag_5', 'actual_percent'], axis=1)\n",
    "    return together_df"
   ]
  },
  {
   "cell_type": "code",
   "execution_count": null,
   "metadata": {},
   "outputs": [],
   "source": [
    "def write_to_file(ids, y):\n",
    "    ids = ids.drop(['adjusted_close', 'adjusted_open', 'adjusted_high', 'adjusted_low', 'adjusted_volume', 'moving_average'], axis=1)\n",
    "    time_index = ids[60:].index\n",
    "    y.index = time_index\n",
    "    df_all_cols = pd.concat((ids[60:], y), axis = 1)\n",
    "    df_all_cols.to_csv(output)"
   ]
  },
  {
   "cell_type": "code",
   "execution_count": null,
   "metadata": {},
   "outputs": [],
   "source": [
    "directory = os.fsencode(directory_in_str)\n",
    "\n",
    "for file in os.listdir(directory):\n",
    "    filename = os.fsdecode(file)\n",
    "    if filename.endswith(\".csv\"):\n",
    "        temp, y = LSTM_predict(filename)\n",
    "        if y is not None:\n",
    "            dfnew = pd.DataFrame(y)\n",
    "            new = change_percent(dfnew)\n",
    "            write_to_file(temp, new)"
   ]
  },
  {
   "cell_type": "code",
   "execution_count": null,
   "metadata": {},
   "outputs": [],
   "source": []
  },
  {
   "cell_type": "code",
   "execution_count": null,
   "metadata": {},
   "outputs": [],
   "source": []
  }
 ],
 "metadata": {
  "kernelspec": {
   "display_name": "Python 3",
   "language": "python",
   "name": "python3"
  },
  "language_info": {
   "codemirror_mode": {
    "name": "ipython",
    "version": 3
   },
   "file_extension": ".py",
   "mimetype": "text/x-python",
   "name": "python",
   "nbconvert_exporter": "python",
   "pygments_lexer": "ipython3",
   "version": "3.7.2"
  }
 },
 "nbformat": 4,
 "nbformat_minor": 2
}
