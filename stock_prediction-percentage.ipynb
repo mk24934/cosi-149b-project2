{
 "cells": [
  {
   "cell_type": "code",
   "execution_count": 1,
   "metadata": {},
   "outputs": [
    {
     "name": "stderr",
     "output_type": "stream",
     "text": [
      "Using TensorFlow backend.\n"
     ]
    }
   ],
   "source": [
    "import numpy as np\n",
    "import matplotlib.pyplot as plt\n",
    "import pandas as pd\n",
    "import datetime\n",
    "from sklearn.preprocessing import MinMaxScaler\n",
    "# Importing the Keras libraries and packages\n",
    "from keras.models import Sequential\n",
    "from keras.layers import Dense\n",
    "from keras.layers import LSTM\n",
    "from keras.layers import Dropout"
   ]
  },
  {
   "cell_type": "code",
   "execution_count": 135,
   "metadata": {},
   "outputs": [
    {
     "data": {
      "text/html": [
       "<div>\n",
       "<style scoped>\n",
       "    .dataframe tbody tr th:only-of-type {\n",
       "        vertical-align: middle;\n",
       "    }\n",
       "\n",
       "    .dataframe tbody tr th {\n",
       "        vertical-align: top;\n",
       "    }\n",
       "\n",
       "    .dataframe thead th {\n",
       "        text-align: right;\n",
       "    }\n",
       "</style>\n",
       "<table border=\"1\" class=\"dataframe\">\n",
       "  <thead>\n",
       "    <tr style=\"text-align: right;\">\n",
       "      <th></th>\n",
       "      <th>adjusted_open</th>\n",
       "      <th>adjusted_high</th>\n",
       "      <th>adjusted_low</th>\n",
       "      <th>adjusted_close</th>\n",
       "      <th>adjusted_volume</th>\n",
       "      <th>id</th>\n",
       "      <th>moving_average</th>\n",
       "    </tr>\n",
       "    <tr>\n",
       "      <th>time</th>\n",
       "      <th></th>\n",
       "      <th></th>\n",
       "      <th></th>\n",
       "      <th></th>\n",
       "      <th></th>\n",
       "      <th></th>\n",
       "      <th></th>\n",
       "    </tr>\n",
       "  </thead>\n",
       "  <tbody>\n",
       "    <tr>\n",
       "      <th>1999-11-26</th>\n",
       "      <td>27.696743</td>\n",
       "      <td>28.116802</td>\n",
       "      <td>27.608667</td>\n",
       "      <td>27.906772</td>\n",
       "      <td>1237100.0</td>\n",
       "      <td>0</td>\n",
       "      <td>28.032790</td>\n",
       "    </tr>\n",
       "    <tr>\n",
       "      <th>1999-11-29</th>\n",
       "      <td>27.778045</td>\n",
       "      <td>28.753664</td>\n",
       "      <td>27.479939</td>\n",
       "      <td>28.543635</td>\n",
       "      <td>2914700.0</td>\n",
       "      <td>0</td>\n",
       "      <td>28.269920</td>\n",
       "    </tr>\n",
       "    <tr>\n",
       "      <th>1999-11-30</th>\n",
       "      <td>28.455558</td>\n",
       "      <td>29.092421</td>\n",
       "      <td>27.737394</td>\n",
       "      <td>28.584286</td>\n",
       "      <td>3083000.0</td>\n",
       "      <td>0</td>\n",
       "      <td>28.024660</td>\n",
       "    </tr>\n",
       "    <tr>\n",
       "      <th>1999-12-01</th>\n",
       "      <td>28.584286</td>\n",
       "      <td>29.431177</td>\n",
       "      <td>28.374257</td>\n",
       "      <td>29.092421</td>\n",
       "      <td>2115400.0</td>\n",
       "      <td>0</td>\n",
       "      <td>28.389162</td>\n",
       "    </tr>\n",
       "    <tr>\n",
       "      <th>1999-12-02</th>\n",
       "      <td>29.641207</td>\n",
       "      <td>30.488098</td>\n",
       "      <td>29.261799</td>\n",
       "      <td>29.898662</td>\n",
       "      <td>2195900.0</td>\n",
       "      <td>0</td>\n",
       "      <td>28.805155</td>\n",
       "    </tr>\n",
       "  </tbody>\n",
       "</table>\n",
       "</div>"
      ],
      "text/plain": [
       "            adjusted_open  adjusted_high  adjusted_low  adjusted_close  \\\n",
       "time                                                                     \n",
       "1999-11-26      27.696743      28.116802     27.608667       27.906772   \n",
       "1999-11-29      27.778045      28.753664     27.479939       28.543635   \n",
       "1999-11-30      28.455558      29.092421     27.737394       28.584286   \n",
       "1999-12-01      28.584286      29.431177     28.374257       29.092421   \n",
       "1999-12-02      29.641207      30.488098     29.261799       29.898662   \n",
       "\n",
       "            adjusted_volume  id  moving_average  \n",
       "time                                             \n",
       "1999-11-26        1237100.0   0       28.032790  \n",
       "1999-11-29        2914700.0   0       28.269920  \n",
       "1999-11-30        3083000.0   0       28.024660  \n",
       "1999-12-01        2115400.0   0       28.389162  \n",
       "1999-12-02        2195900.0   0       28.805155  "
      ]
     },
     "execution_count": 135,
     "metadata": {},
     "output_type": "execute_result"
    }
   ],
   "source": [
    "dataset = pd.read_csv('data_analyzed/0.csv',index_col=\"time\",parse_dates=True)\n",
    "df = pd.read_csv('data_by_id/0.csv', index_col=\"time\",parse_dates=True)\n",
    "df = df[4:]\n",
    "df.head()"
   ]
  },
  {
   "cell_type": "code",
   "execution_count": 165,
   "metadata": {},
   "outputs": [
    {
     "name": "stdout",
     "output_type": "stream",
     "text": [
      "4553\n"
     ]
    }
   ],
   "source": [
    "column = df['adjusted_open'].count()\n",
    "\n",
    "print(column)"
   ]
  },
  {
   "cell_type": "code",
   "execution_count": 166,
   "metadata": {},
   "outputs": [
    {
     "data": {
      "text/plain": [
       "adjusted_open      False\n",
       "adjusted_high      False\n",
       "adjusted_low       False\n",
       "adjusted_close     False\n",
       "adjusted_volume    False\n",
       "id                 False\n",
       "moving_average     False\n",
       "dtype: bool"
      ]
     },
     "execution_count": 166,
     "metadata": {},
     "output_type": "execute_result"
    }
   ],
   "source": [
    "df.isna().any()"
   ]
  },
  {
   "cell_type": "code",
   "execution_count": 167,
   "metadata": {},
   "outputs": [
    {
     "name": "stdout",
     "output_type": "stream",
     "text": [
      "<class 'pandas.core.frame.DataFrame'>\n",
      "DatetimeIndex: 4553 entries, 1999-11-26 to 2017-12-29\n",
      "Data columns (total 7 columns):\n",
      "adjusted_open      4553 non-null float64\n",
      "adjusted_high      4553 non-null float64\n",
      "adjusted_low       4553 non-null float64\n",
      "adjusted_close     4553 non-null float64\n",
      "adjusted_volume    4553 non-null float64\n",
      "id                 4553 non-null int64\n",
      "moving_average     4553 non-null float64\n",
      "dtypes: float64(6), int64(1)\n",
      "memory usage: 444.6 KB\n"
     ]
    }
   ],
   "source": [
    "df.info()"
   ]
  },
  {
   "cell_type": "code",
   "execution_count": 168,
   "metadata": {},
   "outputs": [],
   "source": [
    "training_set = df.drop(['id'], axis=1)\n",
    "# training_set\n",
    "# training_set.head()"
   ]
  },
  {
   "cell_type": "code",
   "execution_count": 169,
   "metadata": {},
   "outputs": [],
   "source": [
    "def change_category(now, week_from_now):\n",
    "    ratio = float(week_from_now)/now\n",
    "    percentile = (ratio - 1) * 100\n",
    "    if abs(percentile) >= 5:\n",
    "        return np.sign(percentile) * 3\n",
    "    elif abs(percentile) >= 3:\n",
    "        return np.sign(percentile) * 2\n",
    "    elif abs(percentile) >= 2:\n",
    "        return np.sign(percentile)\n",
    "    else:\n",
    "        return 0"
   ]
  },
  {
   "cell_type": "code",
   "execution_count": 170,
   "metadata": {},
   "outputs": [
    {
     "name": "stdout",
     "output_type": "stream",
     "text": [
      "4547\n"
     ]
    },
    {
     "data": {
      "text/plain": [
       "(4547, 6)"
      ]
     },
     "execution_count": 170,
     "metadata": {},
     "output_type": "execute_result"
    }
   ],
   "source": [
    "# Convert to percentage\n",
    "training_set_percentage = training_set.copy()\n",
    "for i, data in enumerate(training_set_percentage):\n",
    "#     print(training_set_percentage[data])\n",
    "    for index, price in enumerate(training_set_percentage[data]):\n",
    "        if index > training_set_percentage.shape[0] - 6:\n",
    "            break\n",
    "#         print(training_set_percentage[data][index])\n",
    "#         print(change_category(training_set_percentage[data][index], training_set[data][index+5]))\n",
    "        training_set_percentage[data][index] = change_category(training_set[data][index], training_set[data][index+5])\n",
    "training_set_percentage = training_set_percentage.iloc[:-6]\n",
    "column = column - 6\n",
    "print(column)\n",
    "training_set_percentage.shape"
   ]
  },
  {
   "cell_type": "code",
   "execution_count": 182,
   "metadata": {},
   "outputs": [
    {
     "data": {
      "text/plain": [
       "(4547, 6)"
      ]
     },
     "execution_count": 182,
     "metadata": {},
     "output_type": "execute_result"
    }
   ],
   "source": [
    "# Feature Scaling\n",
    "sc = MinMaxScaler(feature_range = (0, 1))\n",
    "# training_set_scaled = sc.fit_transform(training_set_percentage)\n",
    "training_set_scaled.shape"
   ]
  },
  {
   "cell_type": "code",
   "execution_count": 172,
   "metadata": {},
   "outputs": [
    {
     "data": {
      "text/plain": [
       "(4387, 60, 6)"
      ]
     },
     "execution_count": 172,
     "metadata": {},
     "output_type": "execute_result"
    }
   ],
   "source": [
    "# Creating a data structure with 60 timesteps and 1 output\n",
    "X_train = []\n",
    "y_train = []\n",
    "for i in range(60, column-100):\n",
    "    X_train.append(training_set_scaled[i-60:i, :])\n",
    "    y_train.append(training_set_scaled[i, :])\n",
    "X_train, y_train = np.array(X_train), np.array(y_train)\n",
    "\n",
    "# Reshaping\n",
    "X_train = np.reshape(X_train, (X_train.shape[0], X_train.shape[1], 6))\n",
    "\n",
    "X_train.shape"
   ]
  },
  {
   "cell_type": "code",
   "execution_count": 173,
   "metadata": {},
   "outputs": [],
   "source": [
    "# Initialising the RNN\n",
    "regressor = Sequential()\n",
    "\n",
    "# Adding the first LSTM layer and some Dropout regularisation\n",
    "regressor.add(LSTM(units = 50, return_sequences = True, input_shape = (X_train.shape[1], 6)))\n",
    "regressor.add(Dropout(0.2))\n",
    "\n",
    "# Adding a second LSTM layer and some Dropout regularisation\n",
    "regressor.add(LSTM(units = 50, return_sequences = True))\n",
    "regressor.add(Dropout(0.2))\n",
    "\n",
    "# Adding a third LSTM layer and some Dropout regularisation\n",
    "regressor.add(LSTM(units = 50, return_sequences = True))\n",
    "regressor.add(Dropout(0.2))\n",
    "\n",
    "# Adding a fourth LSTM layer and some Dropout regularisation\n",
    "regressor.add(LSTM(units = 50))\n",
    "regressor.add(Dropout(0.2))\n",
    "\n",
    "# Adding the output layer\n",
    "regressor.add(Dense(units = 6))"
   ]
  },
  {
   "cell_type": "code",
   "execution_count": 174,
   "metadata": {},
   "outputs": [
    {
     "name": "stdout",
     "output_type": "stream",
     "text": [
      "Epoch 1/10\n",
      "4387/4387 [==============================] - 29s 7ms/step - loss: 0.1330\n",
      "Epoch 2/10\n",
      "4387/4387 [==============================] - 28s 6ms/step - loss: 0.1160\n",
      "Epoch 3/10\n",
      "4387/4387 [==============================] - 28s 6ms/step - loss: 0.0785\n",
      "Epoch 4/10\n",
      "4387/4387 [==============================] - 27s 6ms/step - loss: 0.0699\n",
      "Epoch 5/10\n",
      "4387/4387 [==============================] - 26s 6ms/step - loss: 0.0680\n",
      "Epoch 6/10\n",
      "4387/4387 [==============================] - 26s 6ms/step - loss: 0.0669\n",
      "Epoch 7/10\n",
      "4387/4387 [==============================] - 26s 6ms/step - loss: 0.0647\n",
      "Epoch 8/10\n",
      "4387/4387 [==============================] - 29s 7ms/step - loss: 0.0635\n",
      "Epoch 9/10\n",
      "4387/4387 [==============================] - 35s 8ms/step - loss: 0.0637\n",
      "Epoch 10/10\n",
      "4387/4387 [==============================] - 30s 7ms/step - loss: 0.0629\n"
     ]
    },
    {
     "data": {
      "text/plain": [
       "<keras.callbacks.History at 0x13914fcf8>"
      ]
     },
     "execution_count": 174,
     "metadata": {},
     "output_type": "execute_result"
    }
   ],
   "source": [
    "# Compiling the RNN\n",
    "regressor.compile(optimizer = 'adam', loss = 'mean_squared_error')\n",
    "\n",
    "# Fitting the RNN to the Training set\n",
    "regressor.fit(X_train, y_train, epochs = 10, batch_size = 32)"
   ]
  },
  {
   "cell_type": "code",
   "execution_count": 175,
   "metadata": {},
   "outputs": [],
   "source": [
    "X_test = []\n",
    "y_test = []\n",
    "for i in range(column-100, column):\n",
    "    X_test.append(training_set_scaled[i-60:i, :])\n",
    "    y_test.append(training_set_scaled[i, :])\n",
    "X_test = np.array(X_test)\n",
    "X_test = np.reshape(X_test, (X_test.shape[0], X_test.shape[1], 6))\n",
    "y_predicted = regressor.predict(X_test)\n",
    "#predicted_stock_price = sc.inverse_transform(predicted_stock_price)"
   ]
  },
  {
   "cell_type": "code",
   "execution_count": 176,
   "metadata": {},
   "outputs": [
    {
     "name": "stdout",
     "output_type": "stream",
     "text": [
      "<class 'pandas.core.frame.DataFrame'>\n",
      "RangeIndex: 100 entries, 0 to 99\n",
      "Data columns (total 6 columns):\n",
      "0    100 non-null float32\n",
      "1    100 non-null float32\n",
      "2    100 non-null float32\n",
      "3    100 non-null float32\n",
      "4    100 non-null float32\n",
      "5    100 non-null float32\n",
      "dtypes: float32(6)\n",
      "memory usage: 2.4 KB\n"
     ]
    }
   ],
   "source": [
    "y_predicted = pd.DataFrame(y_predicted)\n",
    "y_predicted.info()"
   ]
  },
  {
   "cell_type": "code",
   "execution_count": 180,
   "metadata": {},
   "outputs": [
    {
     "data": {
      "image/png": "[encoded data removed]",
      "text/plain": [
       "<Figure size 432x288 with 1 Axes>"
      ]
     },
     "metadata": {
      "needs_background": "light"
     },
     "output_type": "display_data"
    }
   ],
   "source": [
    "# Visualising the results\n",
    "plt.plot(training_set_scaled[column-100:, 0], color = 'red', label = 'Real Stock Price')\n",
    "plt.plot(y_predicted[0], color = 'blue', label = 'Predicted Stock Price')\n",
    "plt.title('Stock Price Prediction')\n",
    "plt.xlabel('Time')\n",
    "plt.ylabel('Stock Price')\n",
    "plt.legend()\n",
    "plt.show()"
   ]
  },
  {
   "cell_type": "code",
   "execution_count": 179,
   "metadata": {},
   "outputs": [
    {
     "data": {
      "image/png": "[encoded data removed]",
      "text/plain": [
       "<Figure size 432x288 with 1 Axes>"
      ]
     },
     "metadata": {
      "needs_background": "light"
     },
     "output_type": "display_data"
    }
   ],
   "source": [
    "y_real = sc.inverse_transform(y_predicted)\n",
    "# y_real.shape\n",
    "training_set.tail(100)['adjusted_open'].values\n",
    "\n",
    "plt.close()\n",
    "plt.plot(training_set.tail(100)['adjusted_open'].values, color = 'red', label = 'Real Stock Price')\n",
    "plt.plot(y_real[:, 0], color = 'blue', label = 'Predicted Stock Price')\n",
    "plt.title('Stock Price Prediction')\n",
    "plt.xlabel('Time')\n",
    "plt.ylabel('Stock Price')\n",
    "plt.legend()\n",
    "plt.show()"
   ]
  },
  {
   "cell_type": "code",
   "execution_count": null,
   "metadata": {},
   "outputs": [],
   "source": [
    "# Try add/remove layers\n",
    "# Change dimensionality of layers\n",
    "# Split training/test/validation\n",
    "# Test on specific stocks \n",
    "# Combine all stocks into single dataset (60day windows for all stocks)\n",
    "# Change output dimensionality (predict only open)"
   ]
  },
  {
   "cell_type": "code",
   "execution_count": 181,
   "metadata": {},
   "outputs": [],
   "source": [
    "regressor.save('test.h5')"
   ]
  },
  {
   "cell_type": "code",
   "execution_count": null,
   "metadata": {},
   "outputs": [],
   "source": []
  }
 ],
 "metadata": {
  "kernelspec": {
   "display_name": "Python 3",
   "language": "python",
   "name": "python3"
  },
  "language_info": {
   "codemirror_mode": {
    "name": "ipython",
    "version": 3
   },
   "file_extension": ".py",
   "mimetype": "text/x-python",
   "name": "python",
   "nbconvert_exporter": "python",
   "pygments_lexer": "ipython3",
   "version": "3.7.2"
  }
 },
 "nbformat": 4,
 "nbformat_minor": 2
}
