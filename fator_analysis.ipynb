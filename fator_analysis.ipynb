{
 "cells": [
  {
   "cell_type": "code",
   "execution_count": 16,
   "metadata": {},
   "outputs": [],
   "source": [
    "from sklearn.decomposition import PCA\n",
    "from sklearn.datasets import load_digits\n",
    "from sklearn.decomposition import FactorAnalysis\n",
    "\n",
    "import numpy as np\n",
    "from matplotlib import pyplot as plt\n",
    "import csv\n",
    "import pandas as pd"
   ]
  },
  {
   "cell_type": "code",
   "execution_count": 29,
   "metadata": {},
   "outputs": [
    {
     "name": "stdout",
     "output_type": "stream",
     "text": [
      "done\n"
     ]
    }
   ],
   "source": [
    "data = []\n",
    "\n",
    "def main():\n",
    "    df = get_data('0')\n",
    "#     get_data('analyze_df_primary')\n",
    "#     get_data('analyze_df_secondary')\n",
    "#     get_data('analyze_df_shop')\n",
    "\n",
    "    points = np.array(data)\n",
    "\n",
    "    analysis(df, points)\n",
    "\n",
    "def get_data(file):\n",
    "    df = pd.read_csv('data_by_id/' + file + '.csv')\n",
    "    df = df.drop(['id'], axis=1)\n",
    "    for index, row in df.iterrows():\n",
    "        data.append([row[0], row[1], row[2], row[3], row[4], row[6]])\n",
    "    return df\n",
    "\n",
    "def analysis(df, points):\n",
    "    transformer = FactorAnalysis(n_components=1, random_state=0)\n",
    "    X_transformed = transformer.fit_transform(points[4:])\n",
    "    df_analysis = pd.DataFrame(X_transformed)\n",
    "    df_analysis = df_analysis.rename(columns={0: 'factor_analyzed'})\n",
    "    df_analysis['time'] = df['time']\n",
    "    df_analysis.to_csv(\"data_analyzed/\" + str('0') + \".csv\", index=False)\n",
    "    print(\"done\")\n",
    "\n",
    "if __name__ == '__main__':\n",
    "    main()\n"
   ]
  },
  {
   "cell_type": "code",
   "execution_count": null,
   "metadata": {
    "scrolled": true
   },
   "outputs": [],
   "source": []
  },
  {
   "cell_type": "code",
   "execution_count": null,
   "metadata": {},
   "outputs": [],
   "source": []
  }
 ],
 "metadata": {
  "kernelspec": {
   "display_name": "Python 3",
   "language": "python",
   "name": "python3"
  },
  "language_info": {
   "codemirror_mode": {
    "name": "ipython",
    "version": 3
   },
   "file_extension": ".py",
   "mimetype": "text/x-python",
   "name": "python",
   "nbconvert_exporter": "python",
   "pygments_lexer": "ipython3",
   "version": "3.7.2"
  }
 },
 "nbformat": 4,
 "nbformat_minor": 1
}
