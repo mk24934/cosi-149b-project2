{
 "cells": [
  {
   "cell_type": "code",
   "execution_count": 1,
   "metadata": {},
   "outputs": [
    {
     "name": "stderr",
     "output_type": "stream",
     "text": [
      "Using TensorFlow backend.\n"
     ]
    }
   ],
   "source": [
    "import numpy as np\n",
    "import matplotlib.pyplot as plt\n",
    "import pandas as pd\n",
    "import datetime\n",
    "import os\n",
    "from sklearn.preprocessing import MinMaxScaler\n",
    "# Importing the Keras libraries and packages\n",
    "from keras.models import Sequential\n",
    "from keras.layers import Dense\n",
    "from keras.layers import LSTM\n",
    "from keras.layers import Dropout\n",
    "from keras.models import load_model\n",
    "from matplotlib import pyplot"
   ]
  },
  {
   "cell_type": "code",
   "execution_count": 19,
   "metadata": {},
   "outputs": [
    {
     "data": {
      "text/html": [
       "<div>\n",
       "<style scoped>\n",
       "    .dataframe tbody tr th:only-of-type {\n",
       "        vertical-align: middle;\n",
       "    }\n",
       "\n",
       "    .dataframe tbody tr th {\n",
       "        vertical-align: top;\n",
       "    }\n",
       "\n",
       "    .dataframe thead th {\n",
       "        text-align: right;\n",
       "    }\n",
       "</style>\n",
       "<table border=\"1\" class=\"dataframe\">\n",
       "  <thead>\n",
       "    <tr style=\"text-align: right;\">\n",
       "      <th></th>\n",
       "      <th>adjusted_open</th>\n",
       "      <th>adjusted_high</th>\n",
       "      <th>adjusted_low</th>\n",
       "      <th>adjusted_close</th>\n",
       "      <th>adjusted_volume</th>\n",
       "      <th>id</th>\n",
       "      <th>moving_average</th>\n",
       "    </tr>\n",
       "    <tr>\n",
       "      <th>time</th>\n",
       "      <th></th>\n",
       "      <th></th>\n",
       "      <th></th>\n",
       "      <th></th>\n",
       "      <th></th>\n",
       "      <th></th>\n",
       "      <th></th>\n",
       "    </tr>\n",
       "  </thead>\n",
       "  <tbody>\n",
       "    <tr>\n",
       "      <th>1990-01-08</th>\n",
       "      <td>2.962156</td>\n",
       "      <td>2.999828</td>\n",
       "      <td>2.962156</td>\n",
       "      <td>2.985245</td>\n",
       "      <td>1353704.0</td>\n",
       "      <td>135</td>\n",
       "      <td>3.001651</td>\n",
       "    </tr>\n",
       "    <tr>\n",
       "      <th>1990-01-09</th>\n",
       "      <td>2.985245</td>\n",
       "      <td>2.999828</td>\n",
       "      <td>2.931775</td>\n",
       "      <td>2.931775</td>\n",
       "      <td>1061104.0</td>\n",
       "      <td>135</td>\n",
       "      <td>2.981843</td>\n",
       "    </tr>\n",
       "    <tr>\n",
       "      <th>1990-01-10</th>\n",
       "      <td>2.916584</td>\n",
       "      <td>2.931775</td>\n",
       "      <td>2.840631</td>\n",
       "      <td>2.901394</td>\n",
       "      <td>1217504.0</td>\n",
       "      <td>135</td>\n",
       "      <td>2.959118</td>\n",
       "    </tr>\n",
       "    <tr>\n",
       "      <th>1990-01-11</th>\n",
       "      <td>2.901394</td>\n",
       "      <td>2.977346</td>\n",
       "      <td>2.901394</td>\n",
       "      <td>2.939674</td>\n",
       "      <td>1147904.0</td>\n",
       "      <td>135</td>\n",
       "      <td>2.947087</td>\n",
       "    </tr>\n",
       "    <tr>\n",
       "      <th>1990-01-12</th>\n",
       "      <td>2.901394</td>\n",
       "      <td>2.962156</td>\n",
       "      <td>2.878912</td>\n",
       "      <td>2.962156</td>\n",
       "      <td>1964000.0</td>\n",
       "      <td>135</td>\n",
       "      <td>2.944049</td>\n",
       "    </tr>\n",
       "  </tbody>\n",
       "</table>\n",
       "</div>"
      ],
      "text/plain": [
       "            adjusted_open  adjusted_high  adjusted_low  adjusted_close  \\\n",
       "time                                                                     \n",
       "1990-01-08       2.962156       2.999828      2.962156        2.985245   \n",
       "1990-01-09       2.985245       2.999828      2.931775        2.931775   \n",
       "1990-01-10       2.916584       2.931775      2.840631        2.901394   \n",
       "1990-01-11       2.901394       2.977346      2.901394        2.939674   \n",
       "1990-01-12       2.901394       2.962156      2.878912        2.962156   \n",
       "\n",
       "            adjusted_volume   id  moving_average  \n",
       "time                                              \n",
       "1990-01-08        1353704.0  135        3.001651  \n",
       "1990-01-09        1061104.0  135        2.981843  \n",
       "1990-01-10        1217504.0  135        2.959118  \n",
       "1990-01-11        1147904.0  135        2.947087  \n",
       "1990-01-12        1964000.0  135        2.944049  "
      ]
     },
     "execution_count": 19,
     "metadata": {},
     "output_type": "execute_result"
    }
   ],
   "source": [
    "df = pd.read_csv('data_by_id/135.csv', index_col=\"time\",parse_dates=True)\n",
    "df = df[4:]\n",
    "df.head()"
   ]
  },
  {
   "cell_type": "code",
   "execution_count": 21,
   "metadata": {},
   "outputs": [
    {
     "name": "stdout",
     "output_type": "stream",
     "text": [
      "[[0.98702925 0.98476772 0.98482021 0.99611412 0.09937353 0.99324599]\n",
      " [0.99407297 0.99072096 0.99878562 1.         0.07200545 0.99466972]\n",
      " [1.         0.98961536 1.         0.99740941 0.0549955  0.99690948]\n",
      " [0.99312808 0.98663874 0.99661708 0.99326447 0.02273625 0.99836793]\n",
      " [0.98857543 0.98136586 0.98976448 0.98929224 0.03381791 1.        ]\n",
      " [0.9833356  0.97851681 0.98716223 0.98480189 0.03009169 0.99772551]\n",
      " [0.98187531 0.97660327 0.98950426 0.99076024 0.04574844 0.99586773]\n",
      " [0.98728695 0.97719859 0.98976448 0.9880833  0.02034292 0.99399258]\n",
      " [0.98565487 0.97541262 0.98733572 0.98851506 0.01664952 0.99303764]\n",
      " [0.97749446 0.9757528  0.98742246 0.98747883 0.02645002 0.99267303]]\n"
     ]
    }
   ],
   "source": [
    "training_set = df.drop(['id'], axis=1)\n",
    "column = df['adjusted_open'].count()\n",
    "sc = MinMaxScaler(feature_range = (0, 1))\n",
    "training_set_scaled = sc.fit_transform(training_set)\n",
    "print(training_set_scaled[column-10:])"
   ]
  },
  {
   "cell_type": "code",
   "execution_count": 22,
   "metadata": {},
   "outputs": [
    {
     "name": "stdout",
     "output_type": "stream",
     "text": [
      "(100, 60, 6)\n"
     ]
    }
   ],
   "source": [
    "X_test = []\n",
    "y_test = []\n",
    "regressor = load_model('test2.h5')\n",
    "for i in range(column-100, column):\n",
    "    X_test.append(training_set_scaled[i-60:i, :])\n",
    "    y_test.append(training_set_scaled[i, :])\n",
    "X_test = np.array(X_test)\n",
    "print(X_test.shape)\n",
    "X_test = np.reshape(X_test, (X_test.shape[0], X_test.shape[1], 6))\n",
    "y_predicted = regressor.predict(X_test)"
   ]
  },
  {
   "cell_type": "code",
   "execution_count": 23,
   "metadata": {
    "scrolled": true
   },
   "outputs": [
    {
     "name": "stdout",
     "output_type": "stream",
     "text": [
      "<class 'pandas.core.frame.DataFrame'>\n",
      "RangeIndex: 100 entries, 0 to 99\n",
      "Data columns (total 6 columns):\n",
      "0    100 non-null float32\n",
      "1    100 non-null float32\n",
      "2    100 non-null float32\n",
      "3    100 non-null float32\n",
      "4    100 non-null float32\n",
      "5    100 non-null float32\n",
      "dtypes: float32(6)\n",
      "memory usage: 2.4 KB\n"
     ]
    },
    {
     "data": {
      "text/html": [
       "<div>\n",
       "<style scoped>\n",
       "    .dataframe tbody tr th:only-of-type {\n",
       "        vertical-align: middle;\n",
       "    }\n",
       "\n",
       "    .dataframe tbody tr th {\n",
       "        vertical-align: top;\n",
       "    }\n",
       "\n",
       "    .dataframe thead th {\n",
       "        text-align: right;\n",
       "    }\n",
       "</style>\n",
       "<table border=\"1\" class=\"dataframe\">\n",
       "  <thead>\n",
       "    <tr style=\"text-align: right;\">\n",
       "      <th></th>\n",
       "      <th>0</th>\n",
       "      <th>1</th>\n",
       "      <th>2</th>\n",
       "      <th>3</th>\n",
       "      <th>4</th>\n",
       "      <th>5</th>\n",
       "    </tr>\n",
       "  </thead>\n",
       "  <tbody>\n",
       "    <tr>\n",
       "      <th>95</th>\n",
       "      <td>0.990312</td>\n",
       "      <td>0.977627</td>\n",
       "      <td>0.995021</td>\n",
       "      <td>0.984887</td>\n",
       "      <td>0.039612</td>\n",
       "      <td>1.008361</td>\n",
       "    </tr>\n",
       "    <tr>\n",
       "      <th>96</th>\n",
       "      <td>0.986997</td>\n",
       "      <td>0.974287</td>\n",
       "      <td>0.991755</td>\n",
       "      <td>0.981649</td>\n",
       "      <td>0.038514</td>\n",
       "      <td>1.005729</td>\n",
       "    </tr>\n",
       "    <tr>\n",
       "      <th>97</th>\n",
       "      <td>0.986978</td>\n",
       "      <td>0.974285</td>\n",
       "      <td>0.991715</td>\n",
       "      <td>0.981616</td>\n",
       "      <td>0.039436</td>\n",
       "      <td>1.005012</td>\n",
       "    </tr>\n",
       "    <tr>\n",
       "      <th>98</th>\n",
       "      <td>0.986513</td>\n",
       "      <td>0.973752</td>\n",
       "      <td>0.991383</td>\n",
       "      <td>0.981196</td>\n",
       "      <td>0.038120</td>\n",
       "      <td>1.004593</td>\n",
       "    </tr>\n",
       "    <tr>\n",
       "      <th>99</th>\n",
       "      <td>0.986331</td>\n",
       "      <td>0.973536</td>\n",
       "      <td>0.991272</td>\n",
       "      <td>0.981037</td>\n",
       "      <td>0.037387</td>\n",
       "      <td>1.004451</td>\n",
       "    </tr>\n",
       "  </tbody>\n",
       "</table>\n",
       "</div>"
      ],
      "text/plain": [
       "           0         1         2         3         4         5\n",
       "95  0.990312  0.977627  0.995021  0.984887  0.039612  1.008361\n",
       "96  0.986997  0.974287  0.991755  0.981649  0.038514  1.005729\n",
       "97  0.986978  0.974285  0.991715  0.981616  0.039436  1.005012\n",
       "98  0.986513  0.973752  0.991383  0.981196  0.038120  1.004593\n",
       "99  0.986331  0.973536  0.991272  0.981037  0.037387  1.004451"
      ]
     },
     "execution_count": 23,
     "metadata": {},
     "output_type": "execute_result"
    }
   ],
   "source": [
    "y_predicted = pd.DataFrame(y_predicted)\n",
    "y_predicted.info()\n",
    "y_predicted.tail()"
   ]
  },
  {
   "cell_type": "code",
   "execution_count": 29,
   "metadata": {},
   "outputs": [
    {
     "data": {
      "image/png": "[encoded data removed]",
      "text/plain": [
       "<Figure size 432x288 with 1 Axes>"
      ]
     },
     "metadata": {
      "needs_background": "light"
     },
     "output_type": "display_data"
    }
   ],
   "source": [
    "plt.plot(training_set_scaled[column-10:, 3], color = 'red', label = 'Real Stock Price')\n",
    "#plt.plot(y_predicted[: 3], color = 'blue', label = 'Predicted Stock Price')\n",
    "plt.title('Stock Price Prediction')\n",
    "plt.xlabel('Time')\n",
    "plt.ylabel('Stock Price')\n",
    "plt.legend()\n",
    "plt.show()"
   ]
  },
  {
   "cell_type": "code",
   "execution_count": 25,
   "metadata": {
    "scrolled": true
   },
   "outputs": [
    {
     "name": "stdout",
     "output_type": "stream",
     "text": [
      "(1, 60, 6)\n",
      "0\n",
      "1\n",
      "2\n",
      "3\n",
      "4\n",
      "[0.98488677, 0.9819981, 0.9797635, 0.9779916, 0.9770632]\n",
      "-0.00794364\n"
     ]
    }
   ],
   "source": [
    "preds_moving = moving_test_window_preds(5)\n",
    "print(preds_moving)\n",
    "print((preds_moving[4]-preds_moving[0])/preds_moving[0])"
   ]
  },
  {
   "cell_type": "code",
   "execution_count": 26,
   "metadata": {},
   "outputs": [
    {
     "data": {
      "text/plain": [
       "[<matplotlib.lines.Line2D at 0x2ad33584668>]"
      ]
     },
     "execution_count": 26,
     "metadata": {},
     "output_type": "execute_result"
    },
    {
     "data": {
      "image/png": "[encoded data removed]",
      "text/plain": [
       "<Figure size 432x288 with 1 Axes>"
      ]
     },
     "metadata": {
      "needs_background": "light"
     },
     "output_type": "display_data"
    }
   ],
   "source": [
    "pyplot.plot(preds_moving)"
   ]
  },
  {
   "cell_type": "code",
   "execution_count": 13,
   "metadata": {},
   "outputs": [],
   "source": [
    "def moving_test_window_preds(n_future_preds):\n",
    "\n",
    "    ''' n_future_preds - Represents the number of future predictions we want to make\n",
    "                         This coincides with the number of windows that we will move forward\n",
    "                         on the test data\n",
    "    '''\n",
    "    preds_moving = [] # Use this to store the prediction made on each test window\n",
    "    moving_test_window = []\n",
    "    moving_test_window.append(training_set_scaled[column-65:column-5, :])      # Creating the first test window\n",
    "    moving_test_window = np.array(moving_test_window)    # Making it an numpy array\n",
    "    moving_test_window = np.reshape(moving_test_window, (1, 60, 6))\n",
    "    print(moving_test_window.shape)\n",
    "    \n",
    "    for i in range(n_future_preds):\n",
    "        print(i)\n",
    "        preds_one_step = regressor.predict(moving_test_window) # Note that this is already a scaled prediction so no need to rescale this\n",
    "        preds_moving.append(preds_one_step[0,3]) # get the value from the numpy 2D array and append to predictions\n",
    "        preds_one_step = preds_one_step.reshape(1,1,6) # Reshaping the prediction to 3D array for concatenation with moving test window\n",
    "        moving_test_window = np.concatenate((moving_test_window[:,1:,:], preds_one_step), axis=1) # This is the new moving test window, where the first element from the window has been removed and the prediction  has been appended to the end)\n",
    "    \n",
    "    return preds_moving"
   ]
  },
  {
   "cell_type": "code",
   "execution_count": null,
   "metadata": {},
   "outputs": [],
   "source": []
  }
 ],
 "metadata": {
  "kernelspec": {
   "display_name": "Python 3",
   "language": "python",
   "name": "python3"
  },
  "language_info": {
   "codemirror_mode": {
    "name": "ipython",
    "version": 3
   },
   "file_extension": ".py",
   "mimetype": "text/x-python",
   "name": "python",
   "nbconvert_exporter": "python",
   "pygments_lexer": "ipython3",
   "version": "3.7.0"
  }
 },
 "nbformat": 4,
 "nbformat_minor": 2
}
