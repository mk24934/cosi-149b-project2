{
 "cells": [
  {
   "cell_type": "code",
   "execution_count": 1,
   "metadata": {},
   "outputs": [],
   "source": [
    "from sklearn.decomposition import PCA\n",
    "from sklearn.datasets import load_digits\n",
    "from sklearn.decomposition import FactorAnalysis\n",
    "\n",
    "import numpy as np\n",
    "from matplotlib import pyplot as plt\n",
    "import csv\n",
    "import pandas as pd"
   ]
  },
  {
   "cell_type": "code",
   "execution_count": 4,
   "metadata": {},
   "outputs": [
    {
     "name": "stdout",
     "output_type": "stream",
     "text": [
      "[[2.90924207e+01 2.91330715e+01 2.69718041e+01 2.73579867e+01\n",
      "  1.08971000e+07            nan]\n",
      " [2.79880741e+01 2.98105848e+01 2.71411825e+01 2.98105848e+01\n",
      "  4.70520000e+06            nan]\n",
      " [2.87943149e+01 2.95599049e+01 2.72699100e+01 2.72699100e+01\n",
      "  4.27440000e+06            nan]\n",
      " ...\n",
      " [6.67442873e+01 6.69925550e+01 6.66847030e+01 6.68336636e+01\n",
      "  1.03858500e+06 6.68972202e+01]\n",
      " [6.69726935e+01 6.70124164e+01 6.65556038e+01 6.69826243e+01\n",
      "  6.07022000e+05 6.69071509e+01]\n",
      " [6.71814163e+01 6.72610388e+01 6.66141066e+01 6.66539178e+01\n",
      "  1.06489500e+06 6.68275066e+01]]\n",
      "(4557, 6)\n",
      "FactorAnalysis(copy=True, iterated_power=3, max_iter=1000, n_components=1,\n",
      "        noise_variance_init=None, random_state=0, svd_method='randomized',\n",
      "        tol=0.01)\n",
      "   factor_analyzed        time\n",
      "0        -0.963162  1999-11-19\n",
      "1         0.035604  1999-11-22\n",
      "2         0.135802  1999-11-23\n",
      "3        -0.440263  1999-11-24\n",
      "4        -0.392337  1999-11-26\n",
      "done\n"
     ]
    }
   ],
   "source": [
    "data = []\n",
    "\n",
    "def main():\n",
    "    df = get_data('0')\n",
    "#     get_data('analyze_df_primary')\n",
    "#     get_data('analyze_df_secondary')\n",
    "#     get_data('analyze_df_shop')\n",
    "\n",
    "    points = np.array(data)\n",
    "\n",
    "    analysis(df, points)\n",
    "\n",
    "def get_data(file):\n",
    "    df = pd.read_csv('data_by_id/' + file + '.csv')\n",
    "    df = df.drop(['id'], axis=1)\n",
    "    for index, row in df.iterrows():\n",
    "        data.append([row[0], row[1], row[2], row[3], row[4], row[6]])\n",
    "    return df\n",
    "\n",
    "def analysis(df, points):\n",
    "    transformer = FactorAnalysis(n_components=1, random_state=0)\n",
    "    X_transformed = transformer.fit_transform(points[4:])\n",
    "    df_analysis = pd.DataFrame(X_transformed)\n",
    "    df_analysis = df_analysis.rename(columns={0: 'factor_analyzed'})\n",
    "    df_analysis['time'] = df['time']\n",
    "    print(points)\n",
    "    print(points.shape)\n",
    "    print(transformer)\n",
    "    print(df_analysis.head(5))\n",
    "#     df_analysis.to_csv(\"data_analyzed/\" + str('0') + \".csv\", index=False)\n",
    "    print(\"done\")\n",
    "\n",
    "if __name__ == '__main__':\n",
    "    main()\n"
   ]
  },
  {
   "cell_type": "code",
   "execution_count": null,
   "metadata": {
    "scrolled": true
   },
   "outputs": [],
   "source": []
  },
  {
   "cell_type": "code",
   "execution_count": null,
   "metadata": {},
   "outputs": [],
   "source": []
  }
 ],
 "metadata": {
  "kernelspec": {
   "display_name": "Python 3",
   "language": "python",
   "name": "python3"
  },
  "language_info": {
   "codemirror_mode": {
    "name": "ipython",
    "version": 3
   },
   "file_extension": ".py",
   "mimetype": "text/x-python",
   "name": "python",
   "nbconvert_exporter": "python",
   "pygments_lexer": "ipython3",
   "version": "3.7.2"
  }
 },
 "nbformat": 4,
 "nbformat_minor": 1
}
