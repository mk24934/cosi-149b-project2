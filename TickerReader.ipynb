{
 "cells": [
  {
   "cell_type": "code",
   "execution_count": 119,
   "metadata": {},
   "outputs": [],
   "source": [
    "import pandas as pd\n",
    "from keras.models import load_model\n",
    "import numpy as np\n",
    "from datetime import datetime, timedelta\n",
    "\n",
    "class TickerReader(object):\n",
    "    def __init__(self, filename):\n",
    "        self.df = pd.read_csv(filename)\n",
    "        self.df = self.df.drop(columns=['open', 'high', 'low', 'close', 'volume', 'dividend', 'split'])\n",
    "        self.df = self.df.head(10000).sort_values(by=['time']).groupby(['id'])\n",
    "        self.model = load_model('test.h5')\n",
    "        \n",
    "    def predict2(self):\n",
    "        ids = []\n",
    "        for i, df in list(self.df):\n",
    "#             TODO: get row count\n",
    "            x = df[['adjusted_open', 'adjusted_high', 'adjusted_low', 'adjusted_close', 'adjusted_volume', 'adjusted_open']].values\n",
    "            if x.shape[0] >= 60:\n",
    "#                 ids.append([df['id'], df['time']])\n",
    "                ids.append([i, datetime.strptime(df['time'].iloc[-1], '%Y-%m-%d')])\n",
    "\n",
    "        x_input = np.empty((len(ids), 60, 6), dtype=np.float32)\n",
    "\n",
    "        current_point = 0\n",
    "\n",
    "        for i, df in list(self.df):\n",
    "            df['moving_average'] = df['adjusted_close'].rolling(5).mean()\n",
    "            x = df[['adjusted_open', 'adjusted_high', 'adjusted_low', 'adjusted_close', 'adjusted_volume', 'moving_average']].values\n",
    "            if x.shape[0] >= 60:\n",
    "                x_input[current_point, :, :] = x[-60:, :]\n",
    "            current_point += 1\n",
    "            \n",
    "        y = model.predict(x_input)\n",
    "        return y"
   ]
  },
  {
   "cell_type": "code",
   "execution_count": 120,
   "metadata": {},
   "outputs": [],
   "source": [
    "reader = TickerReader('/Users/eureyuri/Desktop/School/Brandeis/Computer-Science/149B/cosi-149b-project2/tmp.csv')"
   ]
  },
  {
   "cell_type": "code",
   "execution_count": 121,
   "metadata": {},
   "outputs": [
    {
     "data": {
      "text/plain": [
       "array([[ 0.08192189,  0.122981  ,  0.24014714,  0.2754598 , -0.4026155 ,\n",
       "        -0.05310421]], dtype=float32)"
      ]
     },
     "execution_count": 121,
     "metadata": {},
     "output_type": "execute_result"
    }
   ],
   "source": [
    "reader.predict2()"
   ]
  },
  {
   "cell_type": "code",
   "execution_count": 118,
   "metadata": {
    "scrolled": true
   },
   "outputs": [
    {
     "name": "stdout",
     "output_type": "stream",
     "text": [
      "[[ 0.08192189  0.122981    0.24014714  0.2754598  -0.4026155  -0.05310421]]\n"
     ]
    }
   ],
   "source": [
    "for i, df in list(reader.df):\n",
    "    x = df[['adjusted_open', 'adjusted_high', 'adjusted_low', 'adjusted_close', 'adjusted_volume', 'adjusted_open']].values\n",
    "    if x.shape[0] >= 60:\n",
    "        x = x[-60:, :]\n",
    "        x = x.reshape((1, 60, 6))\n",
    "        y = model.predict(x)\n",
    "        print(y)"
   ]
  },
  {
   "cell_type": "code",
   "execution_count": null,
   "metadata": {},
   "outputs": [],
   "source": []
  },
  {
   "cell_type": "code",
   "execution_count": 44,
   "metadata": {},
   "outputs": [
    {
     "data": {
      "text/plain": [
       "'2019-01-08'"
      ]
     },
     "execution_count": 44,
     "metadata": {},
     "output_type": "execute_result"
    }
   ],
   "source": [
    "(datetime.strptime('2019-01-01', '%Y-%m-%d') + timedelta(days=7)).strftime('%Y-%m-%d')"
   ]
  }
 ],
 "metadata": {
  "kernelspec": {
   "display_name": "Python 3",
   "language": "python",
   "name": "python3"
  },
  "language_info": {
   "codemirror_mode": {
    "name": "ipython",
    "version": 3
   },
   "file_extension": ".py",
   "mimetype": "text/x-python",
   "name": "python",
   "nbconvert_exporter": "python",
   "pygments_lexer": "ipython3",
   "version": "3.7.2"
  }
 },
 "nbformat": 4,
 "nbformat_minor": 2
}
